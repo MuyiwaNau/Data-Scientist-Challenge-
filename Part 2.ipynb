{
 "cells": [
  {
   "cell_type": "code",
   "execution_count": 1,
   "id": "31c4beac",
   "metadata": {},
   "outputs": [],
   "source": [
    "import json\n",
    "import pandas as pd\n",
    "import matplotlib\n",
    "import matplotlib.pyplot as plt\n",
    "import seaborn as sns"
   ]
  },
  {
   "cell_type": "code",
   "execution_count": 2,
   "id": "e5e05d72",
   "metadata": {},
   "outputs": [],
   "source": [
    "from sklearn.model_selection import train_test_split\n",
    "from sklearn.feature_extraction.text import TfidfVectorizer\n",
    "from xgboost import XGBClassifier\n",
    "from sklearn.metrics import accuracy_score, classification_report, confusion_matrix"
   ]
  },
  {
   "cell_type": "code",
   "execution_count": 3,
   "id": "97b50b4f",
   "metadata": {},
   "outputs": [],
   "source": [
    "from sklearn.tree import DecisionTreeClassifier\n",
    "from sklearn.linear_model import LogisticRegression\n",
    "from sklearn.ensemble import RandomForestClassifier, GradientBoostingClassifier\n",
    "from sklearn.svm import SVC\n",
    "from sklearn.preprocessing import LabelEncoder, StandardScaler"
   ]
  },
  {
   "cell_type": "code",
   "execution_count": 4,
   "id": "80830d9d",
   "metadata": {},
   "outputs": [],
   "source": [
    "sns.set_style('darkgrid')\n",
    "matplotlib.rcParams['font.size'] = 14\n",
    "matplotlib.rcParams['figure.figsize'] = (9, 5)\n",
    "matplotlib.rcParams['figure.facecolor'] = '#00000000'"
   ]
  },
  {
   "cell_type": "code",
   "execution_count": 5,
   "id": "d7ac0f6f",
   "metadata": {},
   "outputs": [],
   "source": [
    "# Define the file path\n",
    "file_path = r\"C:\\Users\\muski\\Desktop\\NewProject\\Part II\\Software.json\""
   ]
  },
  {
   "cell_type": "code",
   "execution_count": 6,
   "id": "1c9fedc0",
   "metadata": {},
   "outputs": [],
   "source": [
    "# Create empty lists to store data\n",
    "reviewerID_list = []\n",
    "asin_list = []\n",
    "reviewerName_list = []\n",
    "vote_list = []\n",
    "style_list = []\n",
    "reviewText_list = []\n",
    "overall_list = []\n",
    "summary_list = []\n",
    "unixReviewTime_list = []\n",
    "reviewTime_list = []"
   ]
  },
  {
   "cell_type": "code",
   "execution_count": 7,
   "id": "9a49b27f",
   "metadata": {},
   "outputs": [],
   "source": [
    "# Read JSON data\n",
    "with open(file_path, 'r') as file:\n",
    "    for line in file:\n",
    "        try:\n",
    "            data = json.loads(line)\n",
    "\n",
    "            # Append data to respective lists\n",
    "            reviewerID_list.append(data.get('reviewerID'))\n",
    "            asin_list.append(data.get('asin'))\n",
    "            reviewerName_list.append(data.get('reviewerName'))\n",
    "            vote_list.append(data.get('vote'))\n",
    "            style_list.append(data.get('style'))\n",
    "            reviewText_list.append(data.get('reviewText'))\n",
    "            overall_list.append(data.get('overall'))\n",
    "            summary_list.append(data.get('summary'))\n",
    "            unixReviewTime_list.append(data.get('unixReviewTime'))\n",
    "            reviewTime_list.append(data.get('reviewTime'))\n",
    "\n",
    "        except json.JSONDecodeError as e:\n",
    "            print(f\"Error decoding JSON: {e}\")"
   ]
  },
  {
   "cell_type": "code",
   "execution_count": 8,
   "id": "52a3ca56",
   "metadata": {},
   "outputs": [],
   "source": [
    "# Create a DataFrame\n",
    "df = pd.DataFrame({\n",
    "    'reviewerID': reviewerID_list,\n",
    "    'asin': asin_list,\n",
    "    'reviewerName': reviewerName_list,\n",
    "    'vote': vote_list,\n",
    "    'style': style_list,\n",
    "    'reviewText': reviewText_list,\n",
    "    'overall': overall_list,\n",
    "    'summary': summary_list,\n",
    "    'unixReviewTime': unixReviewTime_list,\n",
    "    'reviewTime': reviewTime_list\n",
    "})"
   ]
  },
  {
   "cell_type": "code",
   "execution_count": 9,
   "id": "ffa5fd67",
   "metadata": {
    "scrolled": true
   },
   "outputs": [
    {
     "name": "stdout",
     "output_type": "stream",
     "text": [
      "       reviewerID        asin         reviewerName  vote  \\\n",
      "0  A240ORQ2LF9LUI  0077613252           Michelle W  None   \n",
      "1  A1YCCU0YRLS0FE  0077613252  Rosalind White Ames  None   \n",
      "2  A1BJHRQDYVAY2J  0077613252       Allan R. Baker     7   \n",
      "3   APRDVZ6QBIQXT  0077613252                 Lucy     3   \n",
      "4  A2JZTTBSLS1QXV  0077775473            Albert V.  None   \n",
      "\n",
      "                        style  \\\n",
      "0  {'Format:': ' Loose Leaf'}   \n",
      "1  {'Format:': ' Loose Leaf'}   \n",
      "2  {'Format:': ' Loose Leaf'}   \n",
      "3  {'Format:': ' Loose Leaf'}   \n",
      "4                        None   \n",
      "\n",
      "                                          reviewText  overall  \\\n",
      "0  The materials arrived early and were in excell...      4.0   \n",
      "1  I am really enjoying this book with the worksh...      4.0   \n",
      "2  IF YOU ARE TAKING THIS CLASS DON\"T WASTE YOUR ...      1.0   \n",
      "3  This book was missing pages!!! Important pages...      3.0   \n",
      "4  I have used LearnSmart and can officially say ...      5.0   \n",
      "\n",
      "                         summary  unixReviewTime   reviewTime  \n",
      "0                 Material Great      1394496000  03 11, 2014  \n",
      "1                         Health      1393113600  02 23, 2014  \n",
      "2             ARE YOU KIDING ME?      1392595200  02 17, 2014  \n",
      "3                missing pages!!      1392595200  02 17, 2014  \n",
      "4  Best study product out there!      1381708800  10 14, 2013  \n"
     ]
    }
   ],
   "source": [
    "# Display the DataFrame\n",
    "print(df.head())"
   ]
  },
  {
   "cell_type": "markdown",
   "id": "fd3ef25b",
   "metadata": {},
   "source": [
    "\n",
    "## Analysis\n",
    "### 1.  correlation between the product's rating and the review's helpfulness?"
   ]
  },
  {
   "cell_type": "code",
   "execution_count": 10,
   "id": "68bd70d3",
   "metadata": {},
   "outputs": [],
   "source": [
    "# Convert 'vote' column to numeric (removing non-numeric characters)\n",
    "df['vote'] = pd.to_numeric(df['vote'].str.replace(r'\\D', ''), errors='coerce')"
   ]
  },
  {
   "cell_type": "code",
   "execution_count": 11,
   "id": "cf671bf9",
   "metadata": {},
   "outputs": [],
   "source": [
    "# Calculate the correlation\n",
    "correlation = df['overall'].corr(df['vote'])"
   ]
  },
  {
   "cell_type": "code",
   "execution_count": 12,
   "id": "95173aca",
   "metadata": {},
   "outputs": [
    {
     "name": "stdout",
     "output_type": "stream",
     "text": [
      "Correlation between product's rating and review's helpfulness: -0.017070877080897048\n"
     ]
    }
   ],
   "source": [
    "# Print the correlation coefficient\n",
    "print(f\"Correlation between product's rating and review's helpfulness: {correlation}\")"
   ]
  },
  {
   "cell_type": "markdown",
   "id": "c233b799",
   "metadata": {},
   "source": [
    "\n",
    "The correlation coefficient of -0.017 suggests a very weak negative correlation between the product's rating and the helpfulness of its reviews. The practical significance of this correlation is likely minimal, and other factors may influence the relationship between these variables."
   ]
  },
  {
   "cell_type": "markdown",
   "id": "17ecc8e6",
   "metadata": {},
   "source": [
    "\n",
    "### 2. Who are the most helpful reviewers?"
   ]
  },
  {
   "cell_type": "code",
   "execution_count": 13,
   "id": "73746c87",
   "metadata": {},
   "outputs": [],
   "source": [
    "# Group by reviewerID and sum the helpful votes\n",
    "reviewer_votes = df.groupby('reviewerID')['vote'].sum()\n"
   ]
  },
  {
   "cell_type": "code",
   "execution_count": 14,
   "id": "4d175e29",
   "metadata": {},
   "outputs": [],
   "source": [
    "# Sort the reviewers by the total helpful votes in descending order\n",
    "most_helpful_reviewers = reviewer_votes.sort_values(ascending=False)\n"
   ]
  },
  {
   "cell_type": "code",
   "execution_count": 15,
   "id": "c78e20e0",
   "metadata": {},
   "outputs": [
    {
     "name": "stdout",
     "output_type": "stream",
     "text": [
      "Most Helpful Reviewers:\n",
      "reviewerID\n",
      "A1MRPX3RM48T2I    2375.0\n",
      "A5JLAU2ARJ0BO     2063.0\n",
      "A2D1LPEUCTNT8X    2033.0\n",
      "A3MQAQT8C6D1I7    1846.0\n",
      "A15S4XW3CRISZ5    1470.0\n",
      "Name: vote, dtype: float64\n"
     ]
    }
   ],
   "source": [
    "# Display the most helpful reviewers\n",
    "print(\"Most Helpful Reviewers:\")\n",
    "print(most_helpful_reviewers.head())\n"
   ]
  },
  {
   "cell_type": "markdown",
   "id": "218b38ca",
   "metadata": {},
   "source": [
    "\n",
    "### 3. Have reviews been getting more or less helpful over time?"
   ]
  },
  {
   "cell_type": "code",
   "execution_count": 16,
   "id": "7e3701cc",
   "metadata": {},
   "outputs": [],
   "source": [
    "# Convert 'unixReviewTime' column to datetime\n",
    "df['reviewDate'] = pd.to_datetime(df['unixReviewTime'], unit='s')"
   ]
  },
  {
   "cell_type": "code",
   "execution_count": 17,
   "id": "a57c85ea",
   "metadata": {},
   "outputs": [
    {
     "data": {
      "text/plain": [
       "reviewDate\n",
       "1998-12-04      0.0\n",
       "1999-03-14      3.0\n",
       "1999-06-18      0.0\n",
       "1999-10-23      2.0\n",
       "1999-11-10    127.0\n",
       "              ...  \n",
       "2018-09-23      0.0\n",
       "2018-09-24      0.0\n",
       "2018-09-26      0.0\n",
       "2018-10-01      0.0\n",
       "2018-10-02      0.0\n",
       "Name: vote, Length: 6865, dtype: float64"
      ]
     },
     "execution_count": 17,
     "metadata": {},
     "output_type": "execute_result"
    }
   ],
   "source": [
    "# Group by review date and sum the helpful votes\n",
    "helpful_votes_over_time = df.groupby('reviewDate')['vote'].sum()\n",
    "helpful_votes_over_time"
   ]
  },
  {
   "cell_type": "code",
   "execution_count": 18,
   "id": "aefd2924",
   "metadata": {},
   "outputs": [
    {
     "data": {
      "image/png": "[encoded data removed]",
      "text/plain": [
       "<Figure size 800x600 with 1 Axes>"
      ]
     },
     "metadata": {
      "needs_background": "light"
     },
     "output_type": "display_data"
    }
   ],
   "source": [
    "# Plot the trend\n",
    "plt.figure(figsize=(8, 6))\n",
    "helpful_votes_over_time.plot(title='Trend of Helpful Votes Over Time')\n",
    "plt.xlabel('Review Date')\n",
    "plt.ylabel('Total Helpful Votes')\n",
    "plt.show()"
   ]
  },
  {
   "cell_type": "markdown",
   "id": "54105efa",
   "metadata": {},
   "source": [
    "# Modelling\n"
   ]
  },
  {
   "cell_type": "code",
   "execution_count": 19,
   "id": "687ba7af",
   "metadata": {},
   "outputs": [],
   "source": [
    "# Convert 'vote' column to numeric\n",
    "df['vote'] = pd.to_numeric(df['vote'], errors='coerce')"
   ]
  },
  {
   "cell_type": "code",
   "execution_count": 20,
   "id": "55054916",
   "metadata": {},
   "outputs": [],
   "source": [
    "# Create a binary label for helpfulness (e.g., if 'vote' is above a certain threshold, label it as 1, else label it as 0)\n",
    "df['helpful'] = (df['vote'] > 5).astype(int)"
   ]
  },
  {
   "cell_type": "code",
   "execution_count": 21,
   "id": "8cdded68",
   "metadata": {},
   "outputs": [
    {
     "name": "stdout",
     "output_type": "stream",
     "text": [
      "66\n"
     ]
    }
   ],
   "source": [
    "#check for null values\n",
    "print(df['reviewText'].isnull().sum())"
   ]
  },
  {
   "cell_type": "code",
   "execution_count": 22,
   "id": "a3d2572b",
   "metadata": {},
   "outputs": [],
   "source": [
    "#replace nan with empty strings\n",
    "df['reviewText'].fillna('', inplace=True)"
   ]
  },
  {
   "cell_type": "markdown",
   "id": "a933b58c",
   "metadata": {},
   "source": [
    "#### Feature Engineering: Text vectorization using TF-IDF for 'reviewText'"
   ]
  },
  {
   "cell_type": "code",
   "execution_count": 23,
   "id": "6526a450",
   "metadata": {},
   "outputs": [],
   "source": [
    "\n",
    "tfidf_vectorizer = TfidfVectorizer(max_features=2000, stop_words='english')\n",
    "X_text = tfidf_vectorizer.fit_transform(df['reviewText'])"
   ]
  },
  {
   "cell_type": "code",
   "execution_count": 24,
   "id": "638ac402",
   "metadata": {},
   "outputs": [],
   "source": [
    "# Concatenate TF-IDF features with other relevant features\n",
    "X_features = pd.concat([df[['overall']], pd.DataFrame(X_text.toarray())], axis=1)\n"
   ]
  },
  {
   "cell_type": "code",
   "execution_count": 25,
   "id": "de25aec8",
   "metadata": {},
   "outputs": [
    {
     "name": "stdout",
     "output_type": "stream",
     "text": [
      "(459436,)\n"
     ]
    }
   ],
   "source": [
    "print(df['helpful'].shape)"
   ]
  },
  {
   "cell_type": "code",
   "execution_count": 26,
   "id": "accd68df",
   "metadata": {},
   "outputs": [],
   "source": [
    "# Split the dataset into training and testing sets\n",
    "X_train, X_test, y_train, y_test = train_test_split(X_features, df['helpful'], test_size=0.2, random_state=42)"
   ]
  },
  {
   "cell_type": "markdown",
   "id": "8165c334",
   "metadata": {},
   "source": [
    "#### The XGBoost (Extreme Gradient Boosting) model was used. XGBClassifier for implementation of gradient boosting"
   ]
  },
  {
   "cell_type": "code",
   "execution_count": null,
   "id": "02a0503e",
   "metadata": {},
   "outputs": [],
   "source": [
    "# Initialize and train the XGBoost model\n",
    "model = XGBClassifier()\n",
    "model.fit(X_train, y_train)"
   ]
  },
  {
   "cell_type": "code",
   "execution_count": null,
   "id": "838f2d87",
   "metadata": {},
   "outputs": [],
   "source": [
    "# Make predictions on the testing set\n",
    "y_pred = model.predict(X_test)\n"
   ]
  },
  {
   "cell_type": "code",
   "execution_count": null,
   "id": "aa699e73",
   "metadata": {},
   "outputs": [],
   "source": [
    "# Make predictions on the testing set\n",
    "y_pred = model.predict(X_test)\n",
    "\n",
    "# Evaluate the model\n",
    "print(\"Accuracy:\", accuracy_score(y_test, y_pred))\n",
    "print(\"\\nClassification Report:\\n\", classification_report(y_test, y_pred))\n",
    "print(\"\\nConfusion Matrix:\\n\", confusion_matrix(y_test, y_pred))"
   ]
  },
  {
   "cell_type": "markdown",
   "id": "2b6f67f9",
   "metadata": {},
   "source": [
    "#### 1. The overall accuracy of the model is 88.96%, which indicates the proportion of correctly predicted instances among all instances. \n",
    "#### 2. A precision of 56% means that among the instances predicted as helpful, 56% were actually helpful\n",
    "#### 3. Recall of 18% indicates that the model identified only 18% of the actual helpful instances.\n",
    "#### 4. The harmonic mean F1-score is relatively low, indicating a trade-off between precision and recall."
   ]
  },
  {
   "cell_type": "markdown",
   "id": "e9fdbd48",
   "metadata": {},
   "source": [
    "\n",
    "The model performs well in identifying non-helpful instances (high precision and recall for class 0).\n",
    "However, the performance is weaker for identifying helpful instances (low precision and recall for class 1).\n",
    "The class imbalance is evident from the large number of non-helpful instances (class 0) compared to helpful instances (class 1).\n"
   ]
  },
  {
   "cell_type": "code",
   "execution_count": null,
   "id": "f42cac88",
   "metadata": {},
   "outputs": [],
   "source": []
  },
  {
   "cell_type": "markdown",
   "id": "4192a625",
   "metadata": {},
   "source": [
    "1. Given the class imbalance, I will consider techniques like oversampling, undersampling, or adjusting class weights to improve the model's performance on the minority class.\n",
    "2. Fine-tune hyperparameters, especially those related to handling imbalanced data and model complexity.\n",
    "3. Consider incorporating additional features or experimenting with different models to capture more nuanced patterns in the data."
   ]
  },
  {
   "cell_type": "code",
   "execution_count": null,
   "id": "3be0cff2",
   "metadata": {},
   "outputs": [],
   "source": []
  }
 ],
 "metadata": {
  "kernelspec": {
   "display_name": "Python 3 (ipykernel)",
   "language": "python",
   "name": "python3"
  },
  "language_info": {
   "codemirror_mode": {
    "name": "ipython",
    "version": 3
   },
   "file_extension": ".py",
   "mimetype": "text/x-python",
   "name": "python",
   "nbconvert_exporter": "python",
   "pygments_lexer": "ipython3",
   "version": "3.11.5"
  }
 },
 "nbformat": 4,
 "nbformat_minor": 5
}
