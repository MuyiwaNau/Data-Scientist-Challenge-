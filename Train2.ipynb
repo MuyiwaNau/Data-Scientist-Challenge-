{
 "cells": [
  {
   "cell_type": "code",
   "execution_count": 1,
   "id": "40d7e7af",
   "metadata": {},
   "outputs": [],
   "source": [
    "import json\n",
    "import pandas as pd\n",
    "from sklearn.model_selection import train_test_split\n",
    "from sklearn.feature_extraction.text import TfidfVectorizer\n",
    "from xgboost import XGBClassifier\n",
    "from sklearn.metrics import accuracy_score, classification_report, confusion_matrix"
   ]
  },
  {
   "cell_type": "code",
   "execution_count": 2,
   "id": "d546bf73",
   "metadata": {},
   "outputs": [],
   "source": [
    "file_path = r\"C:\\Users\\muski\\Desktop\\NewProject\\Part II\\Software.json\""
   ]
  },
  {
   "cell_type": "code",
   "execution_count": 3,
   "id": "a2929da7",
   "metadata": {},
   "outputs": [],
   "source": [
    "# Create empty lists to store data\n",
    "reviewerID_list = []\n",
    "asin_list = []\n",
    "reviewerName_list = []\n",
    "vote_list = []\n",
    "style_list = []\n",
    "reviewText_list = []\n",
    "overall_list = []\n",
    "summary_list = []\n",
    "unixReviewTime_list = []\n",
    "reviewTime_list = []"
   ]
  },
  {
   "cell_type": "code",
   "execution_count": 4,
   "id": "bc511e9d",
   "metadata": {},
   "outputs": [],
   "source": [
    "# Read JSON data\n",
    "with open(file_path, 'r') as file:\n",
    "    for line in file:\n",
    "        try:\n",
    "            data = json.loads(line)\n",
    "\n",
    "            # Append data to respective lists\n",
    "            reviewerID_list.append(data.get('reviewerID'))\n",
    "            asin_list.append(data.get('asin'))\n",
    "            reviewerName_list.append(data.get('reviewerName'))\n",
    "            vote_list.append(data.get('vote'))\n",
    "            style_list.append(data.get('style'))\n",
    "            reviewText_list.append(data.get('reviewText'))\n",
    "            overall_list.append(data.get('overall'))\n",
    "            summary_list.append(data.get('summary'))\n",
    "            unixReviewTime_list.append(data.get('unixReviewTime'))\n",
    "            reviewTime_list.append(data.get('reviewTime'))\n",
    "\n",
    "        except json.JSONDecodeError as e:\n",
    "            print(f\"Error decoding JSON: {e}\")"
   ]
  },
  {
   "cell_type": "code",
   "execution_count": 5,
   "id": "1a35b630",
   "metadata": {},
   "outputs": [],
   "source": [
    "# Create a DataFrame\n",
    "df = pd.DataFrame({\n",
    "    'reviewerID': reviewerID_list,\n",
    "    'asin': asin_list,\n",
    "    'reviewerName': reviewerName_list,\n",
    "    'vote': vote_list,\n",
    "    'style': style_list,\n",
    "    'reviewText': reviewText_list,\n",
    "    'overall': overall_list,\n",
    "    'summary': summary_list,\n",
    "    'unixReviewTime': unixReviewTime_list,\n",
    "    'reviewTime': reviewTime_list\n",
    "})"
   ]
  },
  {
   "cell_type": "code",
   "execution_count": 6,
   "id": "b721ad6d",
   "metadata": {
    "scrolled": true
   },
   "outputs": [
    {
     "data": {
      "text/html": [
       "<div>\n",
       "<style scoped>\n",
       "    .dataframe tbody tr th:only-of-type {\n",
       "        vertical-align: middle;\n",
       "    }\n",
       "\n",
       "    .dataframe tbody tr th {\n",
       "        vertical-align: top;\n",
       "    }\n",
       "\n",
       "    .dataframe thead th {\n",
       "        text-align: right;\n",
       "    }\n",
       "</style>\n",
       "<table border=\"1\" class=\"dataframe\">\n",
       "  <thead>\n",
       "    <tr style=\"text-align: right;\">\n",
       "      <th></th>\n",
       "      <th>reviewerID</th>\n",
       "      <th>asin</th>\n",
       "      <th>reviewerName</th>\n",
       "      <th>vote</th>\n",
       "      <th>style</th>\n",
       "      <th>reviewText</th>\n",
       "      <th>overall</th>\n",
       "      <th>summary</th>\n",
       "      <th>unixReviewTime</th>\n",
       "      <th>reviewTime</th>\n",
       "    </tr>\n",
       "  </thead>\n",
       "  <tbody>\n",
       "    <tr>\n",
       "      <th>459431</th>\n",
       "      <td>AGEWYJ2NF5C2H</td>\n",
       "      <td>B01HF41TKI</td>\n",
       "      <td>Bonita Alferes</td>\n",
       "      <td>None</td>\n",
       "      <td>None</td>\n",
       "      <td>No instructions.....No Help unless you want to...</td>\n",
       "      <td>2.0</td>\n",
       "      <td>Two Stars</td>\n",
       "      <td>1480377600</td>\n",
       "      <td>11 29, 2016</td>\n",
       "    </tr>\n",
       "    <tr>\n",
       "      <th>459432</th>\n",
       "      <td>A3VCFV8WEQG9R5</td>\n",
       "      <td>B01HF3G4BS</td>\n",
       "      <td>mekonen</td>\n",
       "      <td>None</td>\n",
       "      <td>None</td>\n",
       "      <td>it's a joke</td>\n",
       "      <td>1.0</td>\n",
       "      <td>One Star</td>\n",
       "      <td>1519862400</td>\n",
       "      <td>03 1, 2018</td>\n",
       "    </tr>\n",
       "    <tr>\n",
       "      <th>459433</th>\n",
       "      <td>A3DXGHJF6SOHNC</td>\n",
       "      <td>B01HF3G4BS</td>\n",
       "      <td>bbeckham</td>\n",
       "      <td>None</td>\n",
       "      <td>None</td>\n",
       "      <td>I have multiple licenses of the Antivirus. I h...</td>\n",
       "      <td>5.0</td>\n",
       "      <td>This is very effective antivirus software.</td>\n",
       "      <td>1512172800</td>\n",
       "      <td>12 2, 2017</td>\n",
       "    </tr>\n",
       "    <tr>\n",
       "      <th>459434</th>\n",
       "      <td>A1WOS4D7QA06DO</td>\n",
       "      <td>B01HJAMWOK</td>\n",
       "      <td>Charles E. Potter</td>\n",
       "      <td>None</td>\n",
       "      <td>None</td>\n",
       "      <td>good value</td>\n",
       "      <td>5.0</td>\n",
       "      <td>Five Stars</td>\n",
       "      <td>1536969600</td>\n",
       "      <td>09 15, 2018</td>\n",
       "    </tr>\n",
       "    <tr>\n",
       "      <th>459435</th>\n",
       "      <td>A20SG9ZGIIFW69</td>\n",
       "      <td>B01HJAMWOK</td>\n",
       "      <td>Joe</td>\n",
       "      <td>None</td>\n",
       "      <td>None</td>\n",
       "      <td>very nice designs easy to use.</td>\n",
       "      <td>5.0</td>\n",
       "      <td>Five Stars</td>\n",
       "      <td>1475625600</td>\n",
       "      <td>10 5, 2016</td>\n",
       "    </tr>\n",
       "  </tbody>\n",
       "</table>\n",
       "</div>"
      ],
      "text/plain": [
       "            reviewerID        asin       reviewerName  vote style  \\\n",
       "459431   AGEWYJ2NF5C2H  B01HF41TKI     Bonita Alferes  None  None   \n",
       "459432  A3VCFV8WEQG9R5  B01HF3G4BS            mekonen  None  None   \n",
       "459433  A3DXGHJF6SOHNC  B01HF3G4BS           bbeckham  None  None   \n",
       "459434  A1WOS4D7QA06DO  B01HJAMWOK  Charles E. Potter  None  None   \n",
       "459435  A20SG9ZGIIFW69  B01HJAMWOK                Joe  None  None   \n",
       "\n",
       "                                               reviewText  overall  \\\n",
       "459431  No instructions.....No Help unless you want to...      2.0   \n",
       "459432                                        it's a joke      1.0   \n",
       "459433  I have multiple licenses of the Antivirus. I h...      5.0   \n",
       "459434                                         good value      5.0   \n",
       "459435                     very nice designs easy to use.      5.0   \n",
       "\n",
       "                                           summary  unixReviewTime  \\\n",
       "459431                                   Two Stars      1480377600   \n",
       "459432                                    One Star      1519862400   \n",
       "459433  This is very effective antivirus software.      1512172800   \n",
       "459434                                  Five Stars      1536969600   \n",
       "459435                                  Five Stars      1475625600   \n",
       "\n",
       "         reviewTime  \n",
       "459431  11 29, 2016  \n",
       "459432   03 1, 2018  \n",
       "459433   12 2, 2017  \n",
       "459434  09 15, 2018  \n",
       "459435   10 5, 2016  "
      ]
     },
     "execution_count": 6,
     "metadata": {},
     "output_type": "execute_result"
    }
   ],
   "source": [
    "df.tail()"
   ]
  },
  {
   "cell_type": "code",
   "execution_count": 7,
   "id": "644bd12d",
   "metadata": {},
   "outputs": [],
   "source": [
    "# Convert 'vote' column to numeric\n",
    "df['vote'] = pd.to_numeric(df['vote'], errors='coerce')"
   ]
  },
  {
   "cell_type": "code",
   "execution_count": 8,
   "id": "8e576889",
   "metadata": {},
   "outputs": [],
   "source": [
    "# Create a binary label for helpfulness (e.g., if 'vote' is above a certain threshold, label it as 1, else label it as 0)\n",
    "df['helpful'] = (df['vote'] > 5).astype(int)"
   ]
  },
  {
   "cell_type": "code",
   "execution_count": 9,
   "id": "38fde833",
   "metadata": {},
   "outputs": [
    {
     "name": "stdout",
     "output_type": "stream",
     "text": [
      "66\n"
     ]
    }
   ],
   "source": [
    "#check for null values\n",
    "print(df['reviewText'].isnull().sum())"
   ]
  },
  {
   "cell_type": "code",
   "execution_count": 10,
   "id": "4c2e693f",
   "metadata": {},
   "outputs": [],
   "source": [
    "#replace nan with empty strings\n",
    "df['reviewText'].fillna('', inplace=True)"
   ]
  },
  {
   "cell_type": "markdown",
   "id": "374ea7be",
   "metadata": {},
   "source": [
    "#### Feature Engineering: Text vectorization using TF-IDF for 'reviewText'"
   ]
  },
  {
   "cell_type": "code",
   "execution_count": 11,
   "id": "3b4b1012",
   "metadata": {},
   "outputs": [],
   "source": [
    "\n",
    "tfidf_vectorizer = TfidfVectorizer(max_features=2000, stop_words='english')\n",
    "X_text = tfidf_vectorizer.fit_transform(df['reviewText'])"
   ]
  },
  {
   "cell_type": "code",
   "execution_count": 12,
   "id": "f7c1ba6c",
   "metadata": {},
   "outputs": [],
   "source": [
    "# Concatenate TF-IDF features with other relevant features\n",
    "X_features = pd.concat([df[['overall']], pd.DataFrame(X_text.toarray())], axis=1)\n"
   ]
  },
  {
   "cell_type": "code",
   "execution_count": 13,
   "id": "1b7880bd",
   "metadata": {},
   "outputs": [
    {
     "name": "stdout",
     "output_type": "stream",
     "text": [
      "(459436,)\n"
     ]
    }
   ],
   "source": [
    "print(df['helpful'].shape)"
   ]
  },
  {
   "cell_type": "code",
   "execution_count": 14,
   "id": "77adf81e",
   "metadata": {},
   "outputs": [],
   "source": [
    "# Split the dataset into training and testing sets\n",
    "X_train, X_test, y_train, y_test = train_test_split(X_features, df['helpful'], test_size=0.2, random_state=42)"
   ]
  },
  {
   "cell_type": "markdown",
   "id": "e24bf8ff",
   "metadata": {},
   "source": [
    "#### The XGBoost (Extreme Gradient Boosting) model was used. XGBClassifier for implementation of gradient boosting"
   ]
  },
  {
   "cell_type": "code",
   "execution_count": 15,
   "id": "e0a59638",
   "metadata": {},
   "outputs": [
    {
     "data": {
      "text/html": [
       "<style>#sk-container-id-1 {color: black;}#sk-container-id-1 pre{padding: 0;}#sk-container-id-1 div.sk-toggleable {background-color: white;}#sk-container-id-1 label.sk-toggleable__label {cursor: pointer;display: block;width: 100%;margin-bottom: 0;padding: 0.3em;box-sizing: border-box;text-align: center;}#sk-container-id-1 label.sk-toggleable__label-arrow:before {content: \"▸\";float: left;margin-right: 0.25em;color: #696969;}#sk-container-id-1 label.sk-toggleable__label-arrow:hover:before {color: black;}#sk-container-id-1 div.sk-estimator:hover label.sk-toggleable__label-arrow:before {color: black;}#sk-container-id-1 div.sk-toggleable__content {max-height: 0;max-width: 0;overflow: hidden;text-align: left;background-color: #f0f8ff;}#sk-container-id-1 div.sk-toggleable__content pre {margin: 0.2em;color: black;border-radius: 0.25em;background-color: #f0f8ff;}#sk-container-id-1 input.sk-toggleable__control:checked~div.sk-toggleable__content {max-height: 200px;max-width: 100%;overflow: auto;}#sk-container-id-1 input.sk-toggleable__control:checked~label.sk-toggleable__label-arrow:before {content: \"▾\";}#sk-container-id-1 div.sk-estimator input.sk-toggleable__control:checked~label.sk-toggleable__label {background-color: #d4ebff;}#sk-container-id-1 div.sk-label input.sk-toggleable__control:checked~label.sk-toggleable__label {background-color: #d4ebff;}#sk-container-id-1 input.sk-hidden--visually {border: 0;clip: rect(1px 1px 1px 1px);clip: rect(1px, 1px, 1px, 1px);height: 1px;margin: -1px;overflow: hidden;padding: 0;position: absolute;width: 1px;}#sk-container-id-1 div.sk-estimator {font-family: monospace;background-color: #f0f8ff;border: 1px dotted black;border-radius: 0.25em;box-sizing: border-box;margin-bottom: 0.5em;}#sk-container-id-1 div.sk-estimator:hover {background-color: #d4ebff;}#sk-container-id-1 div.sk-parallel-item::after {content: \"\";width: 100%;border-bottom: 1px solid gray;flex-grow: 1;}#sk-container-id-1 div.sk-label:hover label.sk-toggleable__label {background-color: #d4ebff;}#sk-container-id-1 div.sk-serial::before {content: \"\";position: absolute;border-left: 1px solid gray;box-sizing: border-box;top: 0;bottom: 0;left: 50%;z-index: 0;}#sk-container-id-1 div.sk-serial {display: flex;flex-direction: column;align-items: center;background-color: white;padding-right: 0.2em;padding-left: 0.2em;position: relative;}#sk-container-id-1 div.sk-item {position: relative;z-index: 1;}#sk-container-id-1 div.sk-parallel {display: flex;align-items: stretch;justify-content: center;background-color: white;position: relative;}#sk-container-id-1 div.sk-item::before, #sk-container-id-1 div.sk-parallel-item::before {content: \"\";position: absolute;border-left: 1px solid gray;box-sizing: border-box;top: 0;bottom: 0;left: 50%;z-index: -1;}#sk-container-id-1 div.sk-parallel-item {display: flex;flex-direction: column;z-index: 1;position: relative;background-color: white;}#sk-container-id-1 div.sk-parallel-item:first-child::after {align-self: flex-end;width: 50%;}#sk-container-id-1 div.sk-parallel-item:last-child::after {align-self: flex-start;width: 50%;}#sk-container-id-1 div.sk-parallel-item:only-child::after {width: 0;}#sk-container-id-1 div.sk-dashed-wrapped {border: 1px dashed gray;margin: 0 0.4em 0.5em 0.4em;box-sizing: border-box;padding-bottom: 0.4em;background-color: white;}#sk-container-id-1 div.sk-label label {font-family: monospace;font-weight: bold;display: inline-block;line-height: 1.2em;}#sk-container-id-1 div.sk-label-container {text-align: center;}#sk-container-id-1 div.sk-container {/* jupyter's `normalize.less` sets `[hidden] { display: none; }` but bootstrap.min.css set `[hidden] { display: none !important; }` so we also need the `!important` here to be able to override the default hidden behavior on the sphinx rendered scikit-learn.org. See: https://github.com/scikit-learn/scikit-learn/issues/21755 */display: inline-block !important;position: relative;}#sk-container-id-1 div.sk-text-repr-fallback {display: none;}</style><div id=\"sk-container-id-1\" class=\"sk-top-container\"><div class=\"sk-text-repr-fallback\"><pre>XGBClassifier(base_score=None, booster=None, callbacks=None,\n",
       "              colsample_bylevel=None, colsample_bynode=None,\n",
       "              colsample_bytree=None, device=None, early_stopping_rounds=None,\n",
       "              enable_categorical=False, eval_metric=None, feature_types=None,\n",
       "              gamma=None, grow_policy=None, importance_type=None,\n",
       "              interaction_constraints=None, learning_rate=None, max_bin=None,\n",
       "              max_cat_threshold=None, max_cat_to_onehot=None,\n",
       "              max_delta_step=None, max_depth=None, max_leaves=None,\n",
       "              min_child_weight=None, missing=nan, monotone_constraints=None,\n",
       "              multi_strategy=None, n_estimators=None, n_jobs=None,\n",
       "              num_parallel_tree=None, random_state=None, ...)</pre><b>In a Jupyter environment, please rerun this cell to show the HTML representation or trust the notebook. <br />On GitHub, the HTML representation is unable to render, please try loading this page with nbviewer.org.</b></div><div class=\"sk-container\" hidden><div class=\"sk-item\"><div class=\"sk-estimator sk-toggleable\"><input class=\"sk-toggleable__control sk-hidden--visually\" id=\"sk-estimator-id-1\" type=\"checkbox\" checked><label for=\"sk-estimator-id-1\" class=\"sk-toggleable__label sk-toggleable__label-arrow\">XGBClassifier</label><div class=\"sk-toggleable__content\"><pre>XGBClassifier(base_score=None, booster=None, callbacks=None,\n",
       "              colsample_bylevel=None, colsample_bynode=None,\n",
       "              colsample_bytree=None, device=None, early_stopping_rounds=None,\n",
       "              enable_categorical=False, eval_metric=None, feature_types=None,\n",
       "              gamma=None, grow_policy=None, importance_type=None,\n",
       "              interaction_constraints=None, learning_rate=None, max_bin=None,\n",
       "              max_cat_threshold=None, max_cat_to_onehot=None,\n",
       "              max_delta_step=None, max_depth=None, max_leaves=None,\n",
       "              min_child_weight=None, missing=nan, monotone_constraints=None,\n",
       "              multi_strategy=None, n_estimators=None, n_jobs=None,\n",
       "              num_parallel_tree=None, random_state=None, ...)</pre></div></div></div></div></div>"
      ],
      "text/plain": [
       "XGBClassifier(base_score=None, booster=None, callbacks=None,\n",
       "              colsample_bylevel=None, colsample_bynode=None,\n",
       "              colsample_bytree=None, device=None, early_stopping_rounds=None,\n",
       "              enable_categorical=False, eval_metric=None, feature_types=None,\n",
       "              gamma=None, grow_policy=None, importance_type=None,\n",
       "              interaction_constraints=None, learning_rate=None, max_bin=None,\n",
       "              max_cat_threshold=None, max_cat_to_onehot=None,\n",
       "              max_delta_step=None, max_depth=None, max_leaves=None,\n",
       "              min_child_weight=None, missing=nan, monotone_constraints=None,\n",
       "              multi_strategy=None, n_estimators=None, n_jobs=None,\n",
       "              num_parallel_tree=None, random_state=None, ...)"
      ]
     },
     "execution_count": 15,
     "metadata": {},
     "output_type": "execute_result"
    }
   ],
   "source": [
    "# Initialize and train the XGBoost model\n",
    "model = XGBClassifier()\n",
    "model.fit(X_train, y_train)"
   ]
  },
  {
   "cell_type": "code",
   "execution_count": 16,
   "id": "6b907595",
   "metadata": {},
   "outputs": [],
   "source": [
    "# Make predictions on the testing set\n",
    "y_pred = model.predict(X_test)\n"
   ]
  },
  {
   "cell_type": "code",
   "execution_count": 17,
   "id": "c3c52ef1",
   "metadata": {
    "scrolled": true
   },
   "outputs": [
    {
     "name": "stdout",
     "output_type": "stream",
     "text": [
      "Accuracy: 0.8896265018283127\n",
      "\n",
      "Classification Report:\n",
      "               precision    recall  f1-score   support\n",
      "\n",
      "           0       0.90      0.98      0.94     81337\n",
      "           1       0.56      0.18      0.27     10551\n",
      "\n",
      "    accuracy                           0.89     91888\n",
      "   macro avg       0.73      0.58      0.60     91888\n",
      "weighted avg       0.86      0.89      0.86     91888\n",
      "\n",
      "\n",
      "Confusion Matrix:\n",
      " [[79895  1442]\n",
      " [ 8700  1851]]\n"
     ]
    }
   ],
   "source": [
    "# Make predictions on the testing set\n",
    "y_pred = model.predict(X_test)\n",
    "\n",
    "# Evaluate the model\n",
    "print(\"Accuracy:\", accuracy_score(y_test, y_pred))\n",
    "print(\"\\nClassification Report:\\n\", classification_report(y_test, y_pred))\n",
    "print(\"\\nConfusion Matrix:\\n\", confusion_matrix(y_test, y_pred))"
   ]
  },
  {
   "cell_type": "markdown",
   "id": "9025a053",
   "metadata": {},
   "source": [
    "#### 1. The overall accuracy of the model is 88.96%, which indicates the proportion of correctly predicted instances among all instances. \n",
    "#### 2. A precision of 56% means that among the instances predicted as helpful, 56% were actually helpful\n",
    "#### 3. Recall of 18% indicates that the model identified only 18% of the actual helpful instances.\n",
    "#### 4. The harmonic mean F1-score is relatively low, indicating a trade-off between precision and recall."
   ]
  },
  {
   "cell_type": "markdown",
   "id": "954b63c0",
   "metadata": {},
   "source": [
    "\n",
    "The model performs well in identifying non-helpful instances (high precision and recall for class 0).\n",
    "However, the performance is weaker for identifying helpful instances (low precision and recall for class 1).\n",
    "The class imbalance is evident from the large number of non-helpful instances (class 0) compared to helpful instances (class 1).\n"
   ]
  },
  {
   "cell_type": "markdown",
   "id": "dcb573bf",
   "metadata": {},
   "source": []
  },
  {
   "cell_type": "markdown",
   "id": "bb03291b",
   "metadata": {},
   "source": [
    "1. Given the class imbalance, I will consider techniques like oversampling, undersampling, or adjusting class weights to improve the model's performance on the minority class.\n",
    "2. Fine-tune hyperparameters, especially those related to handling imbalanced data and model complexity.\n",
    "3. Consider incorporating additional features or experimenting with different models to capture more nuanced patterns in the data."
   ]
  },
  {
   "cell_type": "code",
   "execution_count": null,
   "id": "8851b7e3",
   "metadata": {},
   "outputs": [],
   "source": []
  }
 ],
 "metadata": {
  "kernelspec": {
   "display_name": "Python 3 (ipykernel)",
   "language": "python",
   "name": "python3"
  },
  "language_info": {
   "codemirror_mode": {
    "name": "ipython",
    "version": 3
   },
   "file_extension": ".py",
   "mimetype": "text/x-python",
   "name": "python",
   "nbconvert_exporter": "python",
   "pygments_lexer": "ipython3",
   "version": "3.11.5"
  }
 },
 "nbformat": 4,
 "nbformat_minor": 5
}
