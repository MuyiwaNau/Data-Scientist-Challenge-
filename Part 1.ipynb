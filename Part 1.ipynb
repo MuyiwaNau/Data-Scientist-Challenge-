{
 "cells": [
  {
   "cell_type": "code",
   "execution_count": null,
   "id": "cd20a5f6",
   "metadata": {},
   "outputs": [],
   "source": [
    "import json\n",
    "import os\n",
    "import re\n",
    "import nltk\n",
    "from nltk.sentiment.vader import SentimentIntensityAnalyzer"
   ]
  },
  {
   "cell_type": "code",
   "execution_count": null,
   "id": "64bb04de",
   "metadata": {},
   "outputs": [],
   "source": [
    "# Read JSON data\n",
    "ideas_file_path = r\"C:\\Users\\muski\\Desktop\\NewProject\\Part I\\ideas.json\"\n",
    "comments_file_path = r\"C:\\Users\\muski\\Desktop\\NewProject\\Part I\\comments.json\""
   ]
  },
  {
   "cell_type": "code",
   "execution_count": null,
   "id": "6d2ec8b7",
   "metadata": {},
   "outputs": [],
   "source": [
    "# Read JSON data for ideas\n",
    "with open(ideas_file_path, 'r') as ideas_file:\n",
    "    ideas_data = json.load(ideas_file)"
   ]
  },
  {
   "cell_type": "code",
   "execution_count": null,
   "id": "f6667b8c",
   "metadata": {},
   "outputs": [],
   "source": [
    "# Read JSON data for comments\n",
    "with open(comments_file_path, 'r') as comments_file:\n",
    "    comments_data = json.load(comments_file)"
   ]
  },
  {
   "cell_type": "code",
   "execution_count": null,
   "id": "ae77f00a",
   "metadata": {
    "scrolled": true
   },
   "outputs": [],
   "source": [
    "# Accessing and printing ideas data\n",
    "print(\"Ideas:\")\n",
    "for idea in ideas_data:\n",
    "    idea_id = idea['id']\n",
    "    title = idea['title']\n",
    "    description = idea['description']\n",
    "    author_id = idea['authorId']\n",
    "\n",
    "    print(f\"Idea ID: {idea_id}, Title: {title}, Description: {description}, Author ID: {author_id}\")\n"
   ]
  },
  {
   "cell_type": "code",
   "execution_count": null,
   "id": "5b42b580",
   "metadata": {
    "scrolled": true
   },
   "outputs": [],
   "source": [
    "# Accessing and printing comments data\n",
    "print(\"\\nComments:\")\n",
    "for comment in comments_data:\n",
    "    comment_id = comment['id']\n",
    "    entity_id = comment['entityId']\n",
    "    entity_type = comment['entityType']\n",
    "    author_id = comment['authorId']\n",
    "    body = comment['body']\n",
    "\n",
    "    print(f\"Comment ID: {comment_id}, Entity ID: {entity_id}, Entity Type: {entity_type}, Author ID: {author_id}, Body: {body}\")"
   ]
  },
  {
   "cell_type": "code",
   "execution_count": null,
   "id": "75c50fbc",
   "metadata": {},
   "outputs": [],
   "source": [
    "# Initialize the sentiment analyzer\n",
    "sid = SentimentIntensityAnalyzer()"
   ]
  },
  {
   "cell_type": "markdown",
   "id": "6726fe24",
   "metadata": {},
   "source": [
    "#### This sentiment analyzer is commonly used for basic sentiment analysis tasks, and it provides a quick way to assess the sentiment of a given piece of text."
   ]
  },
  {
   "cell_type": "code",
   "execution_count": null,
   "id": "b6c6668a",
   "metadata": {
    "scrolled": true
   },
   "outputs": [],
   "source": [
    "# Analyze and print sentiment for idea descriptions\n",
    "print(\"Sentiment of Idea Descriptions:\")\n",
    "for idea in ideas_data:\n",
    "    description = idea['description']\n",
    "    sentiment_scores = sid.polarity_scores(description)\n",
    "    sentiment = \"Positive\" if sentiment_scores['compound'] >= 0 else \"Negative\"\n",
    "    print(f\" ID: {idea['id']}, Sentiment: {sentiment}\")"
   ]
  },
  {
   "cell_type": "code",
   "execution_count": null,
   "id": "55418f01",
   "metadata": {
    "scrolled": true
   },
   "outputs": [],
   "source": [
    "# Analyze and print sentiment for comments\n",
    "print(\"\\nSentiment of Comments:\")\n",
    "for comment in comments_data:\n",
    "    body = comment['body']\n",
    "    sentiment_scores = sid.polarity_scores(body)\n",
    "    sentiment = \"Positive\" if sentiment_scores['compound'] >= 0 else \"Negative\"\n",
    "    print(f\"Comment ID: {comment['id']}, Sentiment: {sentiment}\")"
   ]
  },
  {
   "cell_type": "markdown",
   "id": "4720373a",
   "metadata": {},
   "source": [
    "#### Using VADER(Valence Aware Dictionary and Sentiment Reasoner) sentiment analysis tool to determine the sentiment of both idea descriptions and comments. \n",
    "The sentiment is classified as \"Positive\" if the compound score is greater than or equal to 0, and \"Negative\" otherwise. "
   ]
  },
  {
   "cell_type": "markdown",
   "id": "54be688e",
   "metadata": {},
   "source": [
    "### Q: Determining the dominant innovation type for each idea in the dataset involves analyzing the content of the idea descriptions and identifying keywords or patterns associated with different innovation types."
   ]
  },
  {
   "cell_type": "code",
   "execution_count": null,
   "id": "e3cabd6d",
   "metadata": {},
   "outputs": [],
   "source": [
    "# Define patterns for different innovation types in Portuguese\n",
    "innovation_patterns = {\n",
    "    'Products': r'\\b(?:produtos?)\\b',\n",
    "    'Services': r'\\b(?:serviços?)\\b',\n",
    "    'Business_models': r'\\b(?:modelos?\\s*de\\s*negócios?)\\b',\n",
    "    'Work_practices': r'\\b(?:mudança\\s*nas\\s*práticas\\s*de\\s*trabalho)\\b',\n",
    "    'Marketing': r'\\b(?:comercialização)\\b',\n",
    "    'Cost_savings': r'\\b(?:economia\\s*de\\s*custos)\\b',\n",
    "}\n"
   ]
  },
  {
   "cell_type": "code",
   "execution_count": null,
   "id": "26d8f8c4",
   "metadata": {},
   "outputs": [],
   "source": [
    "# Function to determine the dominant innovation type for an idea\n",
    "def get_dominant_innovation_type(description):\n",
    "    for innovation_type, pattern in innovation_patterns.items():\n",
    "        if re.search(pattern, description, flags=re.IGNORECASE):\n",
    "            return innovation_type\n",
    "    return 'Unknown'"
   ]
  },
  {
   "cell_type": "code",
   "execution_count": null,
   "id": "428268c2",
   "metadata": {
    "scrolled": false
   },
   "outputs": [],
   "source": [
    "# Analyze and print the dominant innovation type for each idea\n",
    "print(\"Dominant Innovation Type for Each Idea:\")\n",
    "for idea in ideas_data:\n",
    "    idea_id = idea['id']\n",
    "    description = idea['description']\n",
    "    dominant_type = get_dominant_innovation_type(description)\n",
    "    print(f\"Idea ID: {idea_id}, Dominant Innovation Type: {dominant_type}\")"
   ]
  },
  {
   "cell_type": "markdown",
   "id": "0673e6df",
   "metadata": {},
   "source": [
    "##### Using function get_dominant_innovation_type(description) for any idea description to get its dominant innovation type. \n"
   ]
  }
 ],
 "metadata": {
  "kernelspec": {
   "display_name": "Python 3 (ipykernel)",
   "language": "python",
   "name": "python3"
  },
  "language_info": {
   "codemirror_mode": {
    "name": "ipython",
    "version": 3
   },
   "file_extension": ".py",
   "mimetype": "text/x-python",
   "name": "python",
   "nbconvert_exporter": "python",
   "pygments_lexer": "ipython3",
   "version": "3.11.5"
  }
 },
 "nbformat": 4,
 "nbformat_minor": 5
}
